{
 "cells": [
  {
   "cell_type": "code",
   "execution_count": 1,
   "metadata": {},
   "outputs": [],
   "source": [
    "#!/usr/bin/env python3\n",
    "# -*- coding: utf-8 -*-"
   ]
  },
  {
   "cell_type": "code",
   "execution_count": 2,
   "metadata": {},
   "outputs": [
    {
     "name": "stdout",
     "output_type": "stream",
     "text": [
      "Total time equals: 0.00011013899984391173\n",
      "Total time equals: 8.865599920682143e-05\n",
      "Second performance is better\n"
     ]
    }
   ],
   "source": [
    "import time\n",
    "start = time.perf_counter()\n",
    "data = [1,2,-3,-4]\n",
    "for i in range(len(data)):\n",
    "    if data[i] < 0:\n",
    "        data[i] = 0\n",
    "finish = time.perf_counter()\n",
    "first_performance = finish-start\n",
    "print(f\"Total time equals: {finish-start}\")\n",
    "\n",
    "start = time.perf_counter()\n",
    "data = [1,2,-3,-4]\n",
    "for idx, num in enumerate(data):\n",
    "    if num < 0:\n",
    "        data[idx] = 0\n",
    "finish = time.perf_counter()\n",
    "second_performance = finish-start\n",
    "print(f\"Total time equals: {finish-start}\")\n",
    "\n",
    "if first_performance > second_performance:\n",
    "    print(\"Second performance is better\")\n",
    "if first_performance < second_performance:\n",
    "    print(\"First performance is better\")"
   ]
  },
  {
   "cell_type": "code",
   "execution_count": 3,
   "metadata": {},
   "outputs": [
    {
     "name": "stdout",
     "output_type": "stream",
     "text": [
      "49995000\n",
      "87632 bytes\n",
      "49995000\n",
      "128 bytes\n"
     ]
    }
   ],
   "source": [
    "import sys \n",
    "my_list = [i for i in range(10000)]\n",
    "print(sum(my_list))\n",
    "print(sys.getsizeof(my_list), \"bytes\")\n",
    "\n",
    "my_gen = (i for i in range(10000))\n",
    "print(sum(my_gen))\n",
    "print(sys.getsizeof(my_gen), \"bytes\")"
   ]
  },
  {
   "cell_type": "code",
   "execution_count": 4,
   "metadata": {},
   "outputs": [
    {
     "name": "stdout",
     "output_type": "stream",
     "text": [
      "10.0\n",
      "Total time equals: 0.0001470890001655789\n",
      "10.0\n",
      "Total time equals: 0.0001039040007526637\n",
      "Second performance is better\n"
     ]
    }
   ],
   "source": [
    "start = time.perf_counter()\n",
    "my_dict = {\"item\":\"football\", \"price\":10.0}\n",
    "price = my_dict.get(\"price\",0)\n",
    "print(price)\n",
    "finish = time.perf_counter()\n",
    "first_performance = finish-start\n",
    "print(f\"Total time equals: {finish-start}\")\n",
    "\n",
    "start = time.perf_counter()\n",
    "my_dict = {\"item\":\"football\", \"price\":10.0}\n",
    "price = my_dict[\"price\"]\n",
    "print(price)\n",
    "finish = time.perf_counter()\n",
    "second_performance = finish-start\n",
    "print(f\"Total time equals: {finish-start}\")\n",
    "\n",
    "if first_performance > second_performance:\n",
    "    print(\"Second performance is better\")\n",
    "if first_performance < second_performance:\n",
    "    print(\"First performance is better\")"
   ]
  },
  {
   "cell_type": "code",
   "execution_count": 5,
   "metadata": {},
   "outputs": [
    {
     "name": "stdout",
     "output_type": "stream",
     "text": [
      "Hello my friend \n",
      "Total time equals: 0.0001608259999557049\n",
      "Hello my friend\n",
      "Total time equals: 6.819600002927473e-05\n",
      "Second performance is better\n"
     ]
    }
   ],
   "source": [
    "#concat string with .join()\n",
    "start = time.perf_counter()\n",
    "list_of_strings = [\"Hello\", \"my\", \"friend\"]\n",
    "# BAD:\n",
    "my_string = \"\"\n",
    "for i in list_of_strings:\n",
    "    my_string += i + \" \"\n",
    "print(my_string)\n",
    "finish = time.perf_counter()\n",
    "first_performance = finish-start\n",
    "print(f\"Total time equals: {finish-start}\")\n",
    "\n",
    "#GOOD\n",
    "start = time.perf_counter()\n",
    "my_string = \" \".join(list_of_strings)\n",
    "print(my_string)\n",
    "finish = time.perf_counter()\n",
    "second_performance = finish-start\n",
    "print(f\"Total time equals: {finish-start}\")\n",
    "\n",
    "if first_performance > second_performance:\n",
    "    print(\"Second performance is better\")\n",
    "if first_performance < second_performance:\n",
    "    print(\"First performance is better\")"
   ]
  },
  {
   "cell_type": "code",
   "execution_count": 6,
   "metadata": {},
   "outputs": [
    {
     "name": "stdout",
     "output_type": "stream",
     "text": [
      "[3, 2, 1]\n",
      "Total time equals: 0.00012779499957105145\n",
      "[3, 2, 1]\n",
      "Total time equals: 8.24349999675178e-05\n",
      "Second performance is better\n"
     ]
    }
   ],
   "source": [
    "start = time.perf_counter()\n",
    "data = [1,2,3]\n",
    "print(data[::-1])\n",
    "finish = time.perf_counter()\n",
    "first_performance = finish-start\n",
    "print(f\"Total time equals: {finish-start}\")\n",
    "\n",
    "start = time.perf_counter()\n",
    "data = [1,2,3]\n",
    "data.reverse()\n",
    "print(data)\n",
    "finish = time.perf_counter()\n",
    "second_performance = finish-start\n",
    "print(f\"Total time equals: {finish-start}\")\n",
    "\n",
    "if first_performance > second_performance:\n",
    "    print(\"Second performance is better\")\n",
    "if first_performance < second_performance:\n",
    "    print(\"First performance is better\")"
   ]
  },
  {
   "cell_type": "code",
   "execution_count": 7,
   "metadata": {},
   "outputs": [
    {
     "name": "stdout",
     "output_type": "stream",
     "text": [
      "moving characters to 10,20 and 30\n",
      "Total time equals: 6.400999973266153e-05\n",
      "moving characters to 10,20 and 30\n",
      "Total time equals: 5.5653999879723415e-05\n",
      "Second performance is better\n"
     ]
    }
   ],
   "source": [
    "def move_position(x,y,z):\n",
    "    print(f\"moving characters to {x},{y} and {z}\")\n",
    "    \n",
    "data = [10,20,30]\n",
    "start = time.perf_counter()\n",
    "move_position(*data)\n",
    "finish = time.perf_counter()\n",
    "first_performance = finish-start\n",
    "print(f\"Total time equals: {first_performance}\")\n",
    "\n",
    "start = time.perf_counter()\n",
    "move_position(data[0],data[1],data[2])\n",
    "finish = time.perf_counter()\n",
    "second_performance = finish-start\n",
    "print(f\"Total time equals: {second_performance}\")\n",
    "\n",
    "if first_performance > second_performance:\n",
    "    print(\"Second performance is better\")\n",
    "if first_performance < second_performance:\n",
    "    print(\"First performance is better\")"
   ]
  },
  {
   "cell_type": "code",
   "execution_count": 8,
   "metadata": {},
   "outputs": [
    {
     "name": "stdout",
     "output_type": "stream",
     "text": [
      "admin\n"
     ]
    }
   ],
   "source": [
    "age = 21\n",
    "reputation = 20\n",
    "\n",
    "conditions = [age>=21, reputation>=20]\n",
    "\n",
    "if all(conditions):\n",
    "    print(\"admin\")\n",
    "else:\n",
    "    print(\"other user\")"
   ]
  }
 ],
 "metadata": {
  "kernelspec": {
   "display_name": "Python 3",
   "language": "python",
   "name": "python3"
  },
  "language_info": {
   "codemirror_mode": {
    "name": "ipython",
    "version": 3
   },
   "file_extension": ".py",
   "mimetype": "text/x-python",
   "name": "python",
   "nbconvert_exporter": "python",
   "pygments_lexer": "ipython3",
   "version": "3.7.9"
  }
 },
 "nbformat": 4,
 "nbformat_minor": 2
}
