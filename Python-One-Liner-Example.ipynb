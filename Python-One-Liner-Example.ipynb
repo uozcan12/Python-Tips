{
 "cells": [
  {
   "cell_type": "markdown",
   "metadata": {},
   "source": [
    "### These are some examples of Python one liner trickies from amazing book that is \"PYTHON ONE-LINERS\" written by Christian Mayer."
   ]
  },
  {
   "cell_type": "markdown",
   "metadata": {},
   "source": [
    "### Permutation example"
   ]
  },
  {
   "cell_type": "code",
   "execution_count": 1,
   "metadata": {},
   "outputs": [
    {
     "name": "stdout",
     "output_type": "stream",
     "text": [
      "[(0, 0), (0, 1), (0, 2), (1, 0), (1, 1), (1, 2), (2, 0), (2, 1), (2, 2)]\n"
     ]
    }
   ],
   "source": [
    "print([(x, y) for x in range(3) for y in range(3)])\n",
    "# [(0, 0), (0, 1), (0, 2), (1, 0), (1, 1), (1, 2), (2, 0), (2, 1), (2, 2)]"
   ]
  },
  {
   "cell_type": "markdown",
   "metadata": {},
   "source": [
    "### Listing 2-1: One-liner solution for list comprehension"
   ]
  },
  {
   "cell_type": "code",
   "execution_count": 2,
   "metadata": {},
   "outputs": [
    {
     "name": "stdout",
     "output_type": "stream",
     "text": [
      "[('Alice', 100000), ('Bob', 100000), ('Frank', 122908)]\n"
     ]
    }
   ],
   "source": [
    "## Data\n",
    "employees = {'Alice': 100000, 'Bob' : 100000, 'Carol': 99817, 'Frank': 122908, 'Eve' :88123 }\n",
    "## One-Liner\n",
    "top_earners = [(k, v) for k, v in employees.items() if v >= 100000]\n",
    "## Result\n",
    "print(top_earners)\n",
    "# [('Alice', 100000), ('Carol', 122908)]"
   ]
  },
  {
   "cell_type": "markdown",
   "metadata": {},
   "source": [
    "### Listing 2-2: One-liner solution to find words with high information value"
   ]
  },
  {
   "cell_type": "code",
   "execution_count": 3,
   "metadata": {},
   "outputs": [
    {
     "name": "stdout",
     "output_type": "stream",
     "text": [
      "[['Call', 'Ishmael.', 'Some', 'years', 'never', 'mind', 'long', 'precisely', 'having', 'little', 'money', 'purse,', 'nothing', 'particular', 'interest'], ['shore,', 'thought', 'would', 'sail', 'about', 'little', 'watery', 'part', 'world.', 'have', 'driving', 'spleen,', 'regulating'], ['circulation.', 'Moby', 'Dick']]\n"
     ]
    }
   ],
   "source": [
    "## Data\n",
    "text = ''' Call me Ishmael. Some years ago - never mind how long precisely - having little or no money in my purse, and nothing particular to interest me\n",
    "on shore, I thought I would sail about a little and see the watery part of the world. It is a way I have of driving off the spleen, and regulating\n",
    "the circulation. - Moby Dick'''\n",
    "## One-Liner\n",
    "w = [[x for x in line.split() if len(x)>3] for line in text.split('\\n')]\n",
    "## Result\n",
    "print(w)"
   ]
  },
  {
   "cell_type": "markdown",
   "metadata": {},
   "source": [
    "### Listing 2-4: One-liner solution to mark strings that contain the string 'anonymous'"
   ]
  },
  {
   "cell_type": "code",
   "execution_count": 4,
   "metadata": {},
   "outputs": [
    {
     "name": "stdout",
     "output_type": "stream",
     "text": [
      "[(True, 'lambda functions are anonymous functions.'), (True, 'anonymous functions dont have a name.'), (False, 'functions are objects in Python.')]\n"
     ]
    }
   ],
   "source": [
    "## Data\n",
    "txt = ['lambda functions are anonymous functions.',\n",
    "'anonymous functions dont have a name.',\n",
    "'functions are objects in Python.']\n",
    "## One-Liner\n",
    "mark = map(lambda s: (True, s) if 'anonymous' in s else (False, s), txt)\n",
    "## Result\n",
    "print(list(mark))"
   ]
  },
  {
   "cell_type": "markdown",
   "metadata": {},
   "source": [
    "### Listing 2-5: One-liner solution to find strings in a text and their direct environment"
   ]
  },
  {
   "cell_type": "code",
   "execution_count": 5,
   "metadata": {},
   "outputs": [
    {
     "name": "stdout",
     "output_type": "stream",
     "text": [
      "a fully-managed MySQL and PostgreSQL\n"
     ]
    }
   ],
   "source": [
    "## Data\n",
    "letters_amazon = ''' We spent several years building our own database engine, Amazon Aurora, a fully-managed MySQL and PostgreSQL-compatible\n",
    "service with the same or better durability and availability as the commercial engines, but at one-tenth of the cost. We were\n",
    "not surprised when this worked.\n",
    "'''\n",
    "## One-Liner\n",
    "find = lambda x, q: x[x.find(q)-18:x.find(q)+18] if q in x else -1\n",
    "## Result\n",
    "print(find(letters_amazon, 'SQL'))"
   ]
  },
  {
   "cell_type": "markdown",
   "metadata": {},
   "source": [
    "### Listing 2-6: One-liner solution to sample data.As usual, see if you can guess the output."
   ]
  },
  {
   "cell_type": "code",
   "execution_count": 6,
   "metadata": {},
   "outputs": [
    {
     "name": "stdout",
     "output_type": "stream",
     "text": [
      "[[9.9, 9.8, 9.5], [9.5, 9.4, 9.2], [8.4, 7.9, 8.0], [7.1, 4.8, 4.7]]\n"
     ]
    }
   ],
   "source": [
    "## Data (daily stock prices ($))\n",
    "price = [[9.9, 9.8, 9.8, 9.4, 9.5, 9.7],\n",
    "         [9.5, 9.4, 9.4, 9.3, 9.2, 9.1],\n",
    "         [8.4, 7.9, 7.9, 8.1, 8.0, 8.0],\n",
    "         [7.1, 5.9, 4.8, 4.8, 4.7, 3.9]\n",
    "        ]\n",
    "## One-Liner\n",
    "sample = [line[::2] for line in price]\n",
    "## Result\n",
    "print(sample)"
   ]
  },
  {
   "cell_type": "markdown",
   "metadata": {},
   "source": [
    "### Listing 2-7: One-liner solution to replace all corrupted strings"
   ]
  },
  {
   "cell_type": "code",
   "execution_count": 7,
   "metadata": {},
   "outputs": [
    {
     "name": "stdout",
     "output_type": "stream",
     "text": [
      "['Firefox', 'Firefox', 'Chrome', 'Chrome', 'Safari', 'Safari', 'Safari', 'Safari', 'Chrome', 'Chrome', 'Firefox', 'Firefox']\n"
     ]
    }
   ],
   "source": [
    "## Data\n",
    "visitors = ['Firefox', 'corrupted', 'Chrome', 'corrupted',\n",
    "'Safari', 'corrupted', 'Safari', 'corrupted',\n",
    "'Chrome', 'corrupted', 'Firefox', 'corrupted']\n",
    "## One-Liner\n",
    "visitors[1::2] = visitors[::2]\n",
    "## Result\n",
    "print(visitors)"
   ]
  },
  {
   "cell_type": "markdown",
   "metadata": {},
   "source": [
    "### Listing 2-8: One-liner solution to predict heart rates at different times"
   ]
  },
  {
   "cell_type": "code",
   "execution_count": 8,
   "metadata": {},
   "outputs": [
    {
     "data": {
      "image/png": "[encoded data removed]",
      "text/plain": [
       "<Figure size 432x288 with 1 Axes>"
      ]
     },
     "metadata": {
      "needs_background": "light"
     },
     "output_type": "display_data"
    }
   ],
   "source": [
    "## Dependencies\n",
    "import matplotlib.pyplot as plt\n",
    "%matplotlib inline\n",
    "## Data\n",
    "cardiac_cycle = [62, 60, 62, 64, 68, 77, 80, 76, 71, 66, 61, 60, 62]\n",
    "## One-Liner\n",
    "expected_cycles = cardiac_cycle[1:-2] * 10\n",
    "## Result\n",
    "plt.plot(expected_cycles)\n",
    "plt.show()"
   ]
  },
  {
   "cell_type": "markdown",
   "metadata": {},
   "source": [
    "### Listing 2-9: One-liner solution to find companies that pay below minimum wage"
   ]
  },
  {
   "cell_type": "code",
   "execution_count": 9,
   "metadata": {},
   "outputs": [
    {
     "name": "stdout",
     "output_type": "stream",
     "text": [
      "['CheapCompany', 'SosoCompany']\n"
     ]
    }
   ],
   "source": [
    "## Data\n",
    "companies = {\n",
    "    'CoolCompany' : {'Alice' : 33, 'Bob' : 28, 'Frank' : 29},\n",
    "    'CheapCompany' : {'Ann' : 4, 'Lee' : 9, 'Chrisi' : 7},\n",
    "    'SosoCompany' : {'Esther' : 38, 'Cole' : 8, 'Paris' : 18}\n",
    "}\n",
    "## One-Liner\n",
    "illegal = [x for x in companies if any(y<9 for y in companies[x].values())]\n",
    "## Result\n",
    "print(illegal)"
   ]
  },
  {
   "cell_type": "markdown",
   "metadata": {},
   "source": [
    "### Listing 2-10: One-liner solution to apply a database format to a list of tuples"
   ]
  },
  {
   "cell_type": "code",
   "execution_count": 10,
   "metadata": {},
   "outputs": [
    {
     "name": "stdout",
     "output_type": "stream",
     "text": [
      "[{'name': 'Alice', 'salary': 180000, 'job': 'data scientist'}, {'name': 'Bob', 'salary': 99000, 'job': 'mid-level manager'}, {'name': 'Frank', 'salary': 87000, 'job': 'CEO'}]\n"
     ]
    }
   ],
   "source": [
    "## Data\n",
    "column_names = ['name', 'salary', 'job']\n",
    "db_rows = [('Alice', 180000, 'data scientist'),\n",
    "('Bob', 99000, 'mid-level manager'),\n",
    "('Frank', 87000, 'CEO')]\n",
    "## One-Liner\n",
    "db = [dict(zip(column_names, row)) for row in db_rows]\n",
    "print(db)"
   ]
  }
 ],
 "metadata": {
  "kernelspec": {
   "display_name": "Python 3",
   "language": "python",
   "name": "python3"
  },
  "language_info": {
   "codemirror_mode": {
    "name": "ipython",
    "version": 3
   },
   "file_extension": ".py",
   "mimetype": "text/x-python",
   "name": "python",
   "nbconvert_exporter": "python",
   "pygments_lexer": "ipython3",
   "version": "3.7.9"
  }
 },
 "nbformat": 4,
 "nbformat_minor": 2
}
